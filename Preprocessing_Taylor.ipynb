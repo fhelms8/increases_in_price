{
 "cells": [
  {
   "cell_type": "code",
   "execution_count": 1,
   "id": "57e31d84",
   "metadata": {},
   "outputs": [],
   "source": [
    "# Import Dependencies\n",
    "import pandas as pd\n",
    "import numpy as np\n",
    "import warnings\n",
    "warnings.filterwarnings('ignore')"
   ]
  },
  {
   "cell_type": "code",
   "execution_count": 2,
   "id": "a7e91e75",
   "metadata": {},
   "outputs": [
    {
     "data": {
      "text/html": [
       "<div>\n",
       "<style scoped>\n",
       "    .dataframe tbody tr th:only-of-type {\n",
       "        vertical-align: middle;\n",
       "    }\n",
       "\n",
       "    .dataframe tbody tr th {\n",
       "        vertical-align: top;\n",
       "    }\n",
       "\n",
       "    .dataframe thead th {\n",
       "        text-align: right;\n",
       "    }\n",
       "</style>\n",
       "<table border=\"1\" class=\"dataframe\">\n",
       "  <thead>\n",
       "    <tr style=\"text-align: right;\">\n",
       "      <th></th>\n",
       "      <th>per_idx</th>\n",
       "      <th>cat_idx</th>\n",
       "      <th>dt_idx</th>\n",
       "      <th>et_idx</th>\n",
       "      <th>geo_idx</th>\n",
       "      <th>is_adj</th>\n",
       "      <th>val</th>\n",
       "    </tr>\n",
       "  </thead>\n",
       "  <tbody>\n",
       "    <tr>\n",
       "      <th>0</th>\n",
       "      <td>1</td>\n",
       "      <td>5</td>\n",
       "      <td>1</td>\n",
       "      <td>0</td>\n",
       "      <td>1</td>\n",
       "      <td>0</td>\n",
       "      <td>130683</td>\n",
       "    </tr>\n",
       "    <tr>\n",
       "      <th>1</th>\n",
       "      <td>1</td>\n",
       "      <td>5</td>\n",
       "      <td>1</td>\n",
       "      <td>0</td>\n",
       "      <td>1</td>\n",
       "      <td>1</td>\n",
       "      <td>146925</td>\n",
       "    </tr>\n",
       "    <tr>\n",
       "      <th>2</th>\n",
       "      <td>1</td>\n",
       "      <td>6</td>\n",
       "      <td>1</td>\n",
       "      <td>0</td>\n",
       "      <td>1</td>\n",
       "      <td>0</td>\n",
       "      <td>100872</td>\n",
       "    </tr>\n",
       "    <tr>\n",
       "      <th>3</th>\n",
       "      <td>1</td>\n",
       "      <td>6</td>\n",
       "      <td>1</td>\n",
       "      <td>0</td>\n",
       "      <td>1</td>\n",
       "      <td>1</td>\n",
       "      <td>113447</td>\n",
       "    </tr>\n",
       "    <tr>\n",
       "      <th>4</th>\n",
       "      <td>1</td>\n",
       "      <td>7</td>\n",
       "      <td>1</td>\n",
       "      <td>0</td>\n",
       "      <td>1</td>\n",
       "      <td>0</td>\n",
       "      <td>33906</td>\n",
       "    </tr>\n",
       "  </tbody>\n",
       "</table>\n",
       "</div>"
      ],
      "text/plain": [
       "   per_idx  cat_idx  dt_idx  et_idx  geo_idx  is_adj     val\n",
       "0        1        5       1       0        1       0  130683\n",
       "1        1        5       1       0        1       1  146925\n",
       "2        1        6       1       0        1       0  100872\n",
       "3        1        6       1       0        1       1  113447\n",
       "4        1        7       1       0        1       0   33906"
      ]
     },
     "execution_count": 2,
     "metadata": {},
     "output_type": "execute_result"
    }
   ],
   "source": [
    "# Import file\n",
    "file = './Resources/MRTS-mf_data.csv'\n",
    "data_df = pd.read_csv(file, encoding=\"ISO-8859-1\", low_memory=False)\n",
    "data_df.head()"
   ]
  },
  {
   "cell_type": "code",
   "execution_count": 3,
   "id": "76e3f3a3",
   "metadata": {},
   "outputs": [
    {
     "name": "stdout",
     "output_type": "stream",
     "text": [
      "<class 'pandas.core.frame.DataFrame'>\n",
      "RangeIndex: 165961 entries, 0 to 165960\n",
      "Data columns (total 7 columns):\n",
      " #   Column   Non-Null Count   Dtype \n",
      "---  ------   --------------   ----- \n",
      " 0   per_idx  165961 non-null  int64 \n",
      " 1   cat_idx  165961 non-null  int64 \n",
      " 2   dt_idx   165961 non-null  int64 \n",
      " 3   et_idx   165961 non-null  int64 \n",
      " 4   geo_idx  165961 non-null  int64 \n",
      " 5   is_adj   165961 non-null  int64 \n",
      " 6   val      165961 non-null  object\n",
      "dtypes: int64(6), object(1)\n",
      "memory usage: 8.9+ MB\n"
     ]
    }
   ],
   "source": [
    "data_df.info()"
   ]
  },
  {
   "cell_type": "code",
   "execution_count": 4,
   "id": "6b5e28eb",
   "metadata": {},
   "outputs": [
    {
     "data": {
      "text/plain": [
       "array([1], dtype=int64)"
      ]
     },
     "execution_count": 4,
     "metadata": {},
     "output_type": "execute_result"
    }
   ],
   "source": [
    "#drop all vaules that aren't adjested for the holidays\n",
    "data_df = data_df[data_df.is_adj != 0]\n",
    "data_df['is_adj'].unique()"
   ]
  },
  {
   "cell_type": "code",
   "execution_count": 5,
   "id": "ae26dab1",
   "metadata": {},
   "outputs": [
    {
     "data": {
      "text/plain": [
       "0    36911\n",
       "1    15131\n",
       "5    15131\n",
       "2     2232\n",
       "3     2232\n",
       "4     2232\n",
       "Name: et_idx, dtype: int64"
      ]
     },
     "execution_count": 5,
     "metadata": {},
     "output_type": "execute_result"
    }
   ],
   "source": [
    "#check for row with errors\n",
    "data_df['et_idx'].value_counts()"
   ]
  },
  {
   "cell_type": "code",
   "execution_count": 6,
   "id": "d8d6dc8f",
   "metadata": {},
   "outputs": [
    {
     "data": {
      "text/plain": [
       "array([0], dtype=int64)"
      ]
     },
     "execution_count": 6,
     "metadata": {},
     "output_type": "execute_result"
    }
   ],
   "source": [
    "#drop all vaules with known errors\n",
    "data_df = data_df[data_df.et_idx == 0]\n",
    "data_df['et_idx'].unique()"
   ]
  },
  {
   "cell_type": "code",
   "execution_count": 7,
   "id": "4b5f068f",
   "metadata": {},
   "outputs": [
    {
     "data": {
      "text/plain": [
       "0    36911\n",
       "Name: et_idx, dtype: int64"
      ]
     },
     "execution_count": 7,
     "metadata": {},
     "output_type": "execute_result"
    }
   ],
   "source": [
    "#verify that row with no errors remain\n",
    "data_df['et_idx'].value_counts()"
   ]
  },
  {
   "cell_type": "code",
   "execution_count": 8,
   "id": "18a50308",
   "metadata": {
    "scrolled": true
   },
   "outputs": [
    {
     "name": "stdout",
     "output_type": "stream",
     "text": [
      "<class 'pandas.core.frame.DataFrame'>\n",
      "Int64Index: 36911 entries, 1 to 165954\n",
      "Data columns (total 7 columns):\n",
      " #   Column   Non-Null Count  Dtype \n",
      "---  ------   --------------  ----- \n",
      " 0   per_idx  36911 non-null  int64 \n",
      " 1   cat_idx  36911 non-null  int64 \n",
      " 2   dt_idx   36911 non-null  int64 \n",
      " 3   et_idx   36911 non-null  int64 \n",
      " 4   geo_idx  36911 non-null  int64 \n",
      " 5   is_adj   36911 non-null  int64 \n",
      " 6   val      36911 non-null  object\n",
      "dtypes: int64(6), object(1)\n",
      "memory usage: 2.3+ MB\n"
     ]
    }
   ],
   "source": [
    "data_df.info()"
   ]
  },
  {
   "cell_type": "code",
   "execution_count": 9,
   "id": "1f47d3c5",
   "metadata": {},
   "outputs": [
    {
     "data": {
      "text/plain": [
       "array([27, 28, 32, 46, 47, 61], dtype=int64)"
      ]
     },
     "execution_count": 9,
     "metadata": {},
     "output_type": "execute_result"
    }
   ],
   "source": [
    "options = [27,28,29,32,46,47,48,49,61,62,63,64]\n",
    "  \n",
    "# selecting rows based on condition\n",
    "data_df_reduced = data_df.loc[data_df['cat_idx'].isin(options)]\n",
    "data_df_reduced['cat_idx'].unique()"
   ]
  },
  {
   "cell_type": "code",
   "execution_count": 10,
   "id": "0e6d1454",
   "metadata": {},
   "outputs": [],
   "source": [
    "#reset index\n",
    "data_df_reduced = data_df_reduced.reset_index()"
   ]
  },
  {
   "cell_type": "code",
   "execution_count": 11,
   "id": "26dc2ab4",
   "metadata": {},
   "outputs": [
    {
     "data": {
      "text/html": [
       "<div>\n",
       "<style scoped>\n",
       "    .dataframe tbody tr th:only-of-type {\n",
       "        vertical-align: middle;\n",
       "    }\n",
       "\n",
       "    .dataframe tbody tr th {\n",
       "        vertical-align: top;\n",
       "    }\n",
       "\n",
       "    .dataframe thead th {\n",
       "        text-align: right;\n",
       "    }\n",
       "</style>\n",
       "<table border=\"1\" class=\"dataframe\">\n",
       "  <thead>\n",
       "    <tr style=\"text-align: right;\">\n",
       "      <th></th>\n",
       "      <th>index</th>\n",
       "      <th>per_idx</th>\n",
       "      <th>cat_idx</th>\n",
       "      <th>dt_idx</th>\n",
       "      <th>et_idx</th>\n",
       "      <th>geo_idx</th>\n",
       "      <th>is_adj</th>\n",
       "      <th>val</th>\n",
       "    </tr>\n",
       "  </thead>\n",
       "  <tbody>\n",
       "    <tr>\n",
       "      <th>0</th>\n",
       "      <td>31</td>\n",
       "      <td>1</td>\n",
       "      <td>27</td>\n",
       "      <td>1</td>\n",
       "      <td>0</td>\n",
       "      <td>1</td>\n",
       "      <td>1</td>\n",
       "      <td>30437</td>\n",
       "    </tr>\n",
       "    <tr>\n",
       "      <th>1</th>\n",
       "      <td>33</td>\n",
       "      <td>1</td>\n",
       "      <td>28</td>\n",
       "      <td>1</td>\n",
       "      <td>0</td>\n",
       "      <td>1</td>\n",
       "      <td>1</td>\n",
       "      <td>27835</td>\n",
       "    </tr>\n",
       "    <tr>\n",
       "      <th>2</th>\n",
       "      <td>39</td>\n",
       "      <td>1</td>\n",
       "      <td>32</td>\n",
       "      <td>1</td>\n",
       "      <td>0</td>\n",
       "      <td>1</td>\n",
       "      <td>1</td>\n",
       "      <td>6461</td>\n",
       "    </tr>\n",
       "    <tr>\n",
       "      <th>3</th>\n",
       "      <td>69</td>\n",
       "      <td>1</td>\n",
       "      <td>46</td>\n",
       "      <td>1</td>\n",
       "      <td>0</td>\n",
       "      <td>1</td>\n",
       "      <td>1</td>\n",
       "      <td>19879</td>\n",
       "    </tr>\n",
       "    <tr>\n",
       "      <th>4</th>\n",
       "      <td>73</td>\n",
       "      <td>1</td>\n",
       "      <td>47</td>\n",
       "      <td>1</td>\n",
       "      <td>0</td>\n",
       "      <td>1</td>\n",
       "      <td>1</td>\n",
       "      <td>14134</td>\n",
       "    </tr>\n",
       "    <tr>\n",
       "      <th>...</th>\n",
       "      <td>...</td>\n",
       "      <td>...</td>\n",
       "      <td>...</td>\n",
       "      <td>...</td>\n",
       "      <td>...</td>\n",
       "      <td>...</td>\n",
       "      <td>...</td>\n",
       "      <td>...</td>\n",
       "    </tr>\n",
       "    <tr>\n",
       "      <th>7525</th>\n",
       "      <td>165877</td>\n",
       "      <td>359</td>\n",
       "      <td>47</td>\n",
       "      <td>5</td>\n",
       "      <td>0</td>\n",
       "      <td>1</td>\n",
       "      <td>1</td>\n",
       "      <td>-5.5</td>\n",
       "    </tr>\n",
       "    <tr>\n",
       "      <th>7526</th>\n",
       "      <td>165885</td>\n",
       "      <td>359</td>\n",
       "      <td>61</td>\n",
       "      <td>5</td>\n",
       "      <td>0</td>\n",
       "      <td>1</td>\n",
       "      <td>1</td>\n",
       "      <td>0.6</td>\n",
       "    </tr>\n",
       "    <tr>\n",
       "      <th>7527</th>\n",
       "      <td>165951</td>\n",
       "      <td>359</td>\n",
       "      <td>27</td>\n",
       "      <td>4</td>\n",
       "      <td>0</td>\n",
       "      <td>1</td>\n",
       "      <td>1</td>\n",
       "      <td>0.4</td>\n",
       "    </tr>\n",
       "    <tr>\n",
       "      <th>7528</th>\n",
       "      <td>165953</td>\n",
       "      <td>359</td>\n",
       "      <td>46</td>\n",
       "      <td>4</td>\n",
       "      <td>0</td>\n",
       "      <td>1</td>\n",
       "      <td>1</td>\n",
       "      <td>0.8</td>\n",
       "    </tr>\n",
       "    <tr>\n",
       "      <th>7529</th>\n",
       "      <td>165954</td>\n",
       "      <td>359</td>\n",
       "      <td>47</td>\n",
       "      <td>4</td>\n",
       "      <td>0</td>\n",
       "      <td>1</td>\n",
       "      <td>1</td>\n",
       "      <td>1.5</td>\n",
       "    </tr>\n",
       "  </tbody>\n",
       "</table>\n",
       "<p>7530 rows × 8 columns</p>\n",
       "</div>"
      ],
      "text/plain": [
       "       index  per_idx  cat_idx  dt_idx  et_idx  geo_idx  is_adj    val\n",
       "0         31        1       27       1       0        1       1  30437\n",
       "1         33        1       28       1       0        1       1  27835\n",
       "2         39        1       32       1       0        1       1   6461\n",
       "3         69        1       46       1       0        1       1  19879\n",
       "4         73        1       47       1       0        1       1  14134\n",
       "...      ...      ...      ...     ...     ...      ...     ...    ...\n",
       "7525  165877      359       47       5       0        1       1   -5.5\n",
       "7526  165885      359       61       5       0        1       1    0.6\n",
       "7527  165951      359       27       4       0        1       1    0.4\n",
       "7528  165953      359       46       4       0        1       1    0.8\n",
       "7529  165954      359       47       4       0        1       1    1.5\n",
       "\n",
       "[7530 rows x 8 columns]"
      ]
     },
     "execution_count": 11,
     "metadata": {},
     "output_type": "execute_result"
    }
   ],
   "source": [
    "data_df_reduced"
   ]
  },
  {
   "cell_type": "code",
   "execution_count": 12,
   "id": "2c2ee626",
   "metadata": {},
   "outputs": [
    {
     "name": "stdout",
     "output_type": "stream",
     "text": [
      "<class 'pandas.core.frame.DataFrame'>\n",
      "RangeIndex: 7530 entries, 0 to 7529\n",
      "Data columns (total 8 columns):\n",
      " #   Column   Non-Null Count  Dtype \n",
      "---  ------   --------------  ----- \n",
      " 0   index    7530 non-null   int64 \n",
      " 1   per_idx  7530 non-null   int64 \n",
      " 2   cat_idx  7530 non-null   int64 \n",
      " 3   dt_idx   7530 non-null   int64 \n",
      " 4   et_idx   7530 non-null   int64 \n",
      " 5   geo_idx  7530 non-null   int64 \n",
      " 6   is_adj   7530 non-null   int64 \n",
      " 7   val      7530 non-null   object\n",
      "dtypes: int64(7), object(1)\n",
      "memory usage: 470.8+ KB\n"
     ]
    }
   ],
   "source": [
    "data_df_reduced.info()"
   ]
  },
  {
   "cell_type": "markdown",
   "id": "22ea0084",
   "metadata": {},
   "source": [
    "Renaming Values in the Columns"
   ]
  },
  {
   "cell_type": "code",
   "execution_count": 13,
   "id": "ea48f640",
   "metadata": {},
   "outputs": [],
   "source": [
    "#convert the catagorey index into a string\n",
    "data_df_reduced['cat_idx'] = data_df_reduced['cat_idx'].astype('string')"
   ]
  },
  {
   "cell_type": "code",
   "execution_count": 14,
   "id": "9cd6d8f2",
   "metadata": {},
   "outputs": [
    {
     "name": "stdout",
     "output_type": "stream",
     "text": [
      "<class 'pandas.core.frame.DataFrame'>\n",
      "RangeIndex: 7530 entries, 0 to 7529\n",
      "Data columns (total 8 columns):\n",
      " #   Column   Non-Null Count  Dtype \n",
      "---  ------   --------------  ----- \n",
      " 0   index    7530 non-null   int64 \n",
      " 1   per_idx  7530 non-null   int64 \n",
      " 2   cat_idx  7530 non-null   string\n",
      " 3   dt_idx   7530 non-null   int64 \n",
      " 4   et_idx   7530 non-null   int64 \n",
      " 5   geo_idx  7530 non-null   int64 \n",
      " 6   is_adj   7530 non-null   int64 \n",
      " 7   val      7530 non-null   object\n",
      "dtypes: int64(6), object(1), string(1)\n",
      "memory usage: 470.8+ KB\n"
     ]
    }
   ],
   "source": [
    "data_df_reduced.info()"
   ]
  },
  {
   "cell_type": "code",
   "execution_count": 15,
   "id": "04d43dc7",
   "metadata": {},
   "outputs": [
    {
     "data": {
      "text/plain": [
       "0       Grocery\n",
       "1            28\n",
       "2            32\n",
       "3            46\n",
       "4            47\n",
       "         ...   \n",
       "7525         47\n",
       "7526         61\n",
       "7527    Grocery\n",
       "7528         46\n",
       "7529         47\n",
       "Name: cat_idx, Length: 7530, dtype: object"
      ]
     },
     "execution_count": 15,
     "metadata": {},
     "output_type": "execute_result"
    }
   ],
   "source": [
    "data_df_reduced['cat_idx'].replace({\"27\": \"Grocery\"}, inplace=True)\n",
    "data_df_reduced['cat_idx']"
   ]
  },
  {
   "cell_type": "code",
   "execution_count": 16,
   "id": "1678c572",
   "metadata": {},
   "outputs": [
    {
     "data": {
      "text/html": [
       "<div>\n",
       "<style scoped>\n",
       "    .dataframe tbody tr th:only-of-type {\n",
       "        vertical-align: middle;\n",
       "    }\n",
       "\n",
       "    .dataframe tbody tr th {\n",
       "        vertical-align: top;\n",
       "    }\n",
       "\n",
       "    .dataframe thead th {\n",
       "        text-align: right;\n",
       "    }\n",
       "</style>\n",
       "<table border=\"1\" class=\"dataframe\">\n",
       "  <thead>\n",
       "    <tr style=\"text-align: right;\">\n",
       "      <th></th>\n",
       "      <th>index</th>\n",
       "      <th>per_idx</th>\n",
       "      <th>cat_idx</th>\n",
       "      <th>dt_idx</th>\n",
       "      <th>et_idx</th>\n",
       "      <th>geo_idx</th>\n",
       "      <th>is_adj</th>\n",
       "      <th>val</th>\n",
       "    </tr>\n",
       "  </thead>\n",
       "  <tbody>\n",
       "    <tr>\n",
       "      <th>0</th>\n",
       "      <td>31</td>\n",
       "      <td>1</td>\n",
       "      <td>Grocery</td>\n",
       "      <td>1</td>\n",
       "      <td>0</td>\n",
       "      <td>1</td>\n",
       "      <td>1</td>\n",
       "      <td>30437</td>\n",
       "    </tr>\n",
       "    <tr>\n",
       "      <th>1</th>\n",
       "      <td>33</td>\n",
       "      <td>1</td>\n",
       "      <td>28</td>\n",
       "      <td>1</td>\n",
       "      <td>0</td>\n",
       "      <td>1</td>\n",
       "      <td>1</td>\n",
       "      <td>27835</td>\n",
       "    </tr>\n",
       "    <tr>\n",
       "      <th>2</th>\n",
       "      <td>39</td>\n",
       "      <td>1</td>\n",
       "      <td>32</td>\n",
       "      <td>1</td>\n",
       "      <td>0</td>\n",
       "      <td>1</td>\n",
       "      <td>1</td>\n",
       "      <td>6461</td>\n",
       "    </tr>\n",
       "    <tr>\n",
       "      <th>3</th>\n",
       "      <td>69</td>\n",
       "      <td>1</td>\n",
       "      <td>46</td>\n",
       "      <td>1</td>\n",
       "      <td>0</td>\n",
       "      <td>1</td>\n",
       "      <td>1</td>\n",
       "      <td>19879</td>\n",
       "    </tr>\n",
       "    <tr>\n",
       "      <th>4</th>\n",
       "      <td>73</td>\n",
       "      <td>1</td>\n",
       "      <td>47</td>\n",
       "      <td>1</td>\n",
       "      <td>0</td>\n",
       "      <td>1</td>\n",
       "      <td>1</td>\n",
       "      <td>14134</td>\n",
       "    </tr>\n",
       "  </tbody>\n",
       "</table>\n",
       "</div>"
      ],
      "text/plain": [
       "   index  per_idx  cat_idx  dt_idx  et_idx  geo_idx  is_adj    val\n",
       "0     31        1  Grocery       1       0        1       1  30437\n",
       "1     33        1       28       1       0        1       1  27835\n",
       "2     39        1       32       1       0        1       1   6461\n",
       "3     69        1       46       1       0        1       1  19879\n",
       "4     73        1       47       1       0        1       1  14134"
      ]
     },
     "execution_count": 16,
     "metadata": {},
     "output_type": "execute_result"
    }
   ],
   "source": [
    "data_df_reduced.head()"
   ]
  },
  {
   "cell_type": "code",
   "execution_count": 17,
   "id": "52558c6e",
   "metadata": {},
   "outputs": [
    {
     "data": {
      "text/plain": [
       "0                   Grocery\n",
       "1                   Grocery\n",
       "2                  Pharmacy\n",
       "3       General Merchandise\n",
       "4       General Merchandise\n",
       "               ...         \n",
       "7525    General Merchandise\n",
       "7526            Restaurants\n",
       "7527                Grocery\n",
       "7528    General Merchandise\n",
       "7529    General Merchandise\n",
       "Name: cat_idx, Length: 7530, dtype: object"
      ]
     },
     "execution_count": 17,
     "metadata": {},
     "output_type": "execute_result"
    }
   ],
   "source": [
    "data_df_reduced['cat_idx'].replace({\"28\": \"Grocery\", \n",
    "                                    \"32\": \"Pharmacy\",\n",
    "                                    \"46\": \"General Merchandise\",\n",
    "                                    \"47\": \"General Merchandise\",\n",
    "                                    \"61\": \"Restaurants\"}, inplace=True)\n",
    "data_df_reduced['cat_idx']"
   ]
  },
  {
   "cell_type": "code",
   "execution_count": 18,
   "id": "b29e4f40",
   "metadata": {},
   "outputs": [
    {
     "data": {
      "text/html": [
       "<div>\n",
       "<style scoped>\n",
       "    .dataframe tbody tr th:only-of-type {\n",
       "        vertical-align: middle;\n",
       "    }\n",
       "\n",
       "    .dataframe tbody tr th {\n",
       "        vertical-align: top;\n",
       "    }\n",
       "\n",
       "    .dataframe thead th {\n",
       "        text-align: right;\n",
       "    }\n",
       "</style>\n",
       "<table border=\"1\" class=\"dataframe\">\n",
       "  <thead>\n",
       "    <tr style=\"text-align: right;\">\n",
       "      <th></th>\n",
       "      <th>index</th>\n",
       "      <th>per_idx</th>\n",
       "      <th>cat_idx</th>\n",
       "      <th>dt_idx</th>\n",
       "      <th>et_idx</th>\n",
       "      <th>geo_idx</th>\n",
       "      <th>is_adj</th>\n",
       "      <th>val</th>\n",
       "    </tr>\n",
       "  </thead>\n",
       "  <tbody>\n",
       "    <tr>\n",
       "      <th>0</th>\n",
       "      <td>31</td>\n",
       "      <td>1</td>\n",
       "      <td>Grocery</td>\n",
       "      <td>1</td>\n",
       "      <td>0</td>\n",
       "      <td>1</td>\n",
       "      <td>1</td>\n",
       "      <td>30437</td>\n",
       "    </tr>\n",
       "    <tr>\n",
       "      <th>1</th>\n",
       "      <td>33</td>\n",
       "      <td>1</td>\n",
       "      <td>Grocery</td>\n",
       "      <td>1</td>\n",
       "      <td>0</td>\n",
       "      <td>1</td>\n",
       "      <td>1</td>\n",
       "      <td>27835</td>\n",
       "    </tr>\n",
       "    <tr>\n",
       "      <th>2</th>\n",
       "      <td>39</td>\n",
       "      <td>1</td>\n",
       "      <td>Pharmacy</td>\n",
       "      <td>1</td>\n",
       "      <td>0</td>\n",
       "      <td>1</td>\n",
       "      <td>1</td>\n",
       "      <td>6461</td>\n",
       "    </tr>\n",
       "    <tr>\n",
       "      <th>3</th>\n",
       "      <td>69</td>\n",
       "      <td>1</td>\n",
       "      <td>General Merchandise</td>\n",
       "      <td>1</td>\n",
       "      <td>0</td>\n",
       "      <td>1</td>\n",
       "      <td>1</td>\n",
       "      <td>19879</td>\n",
       "    </tr>\n",
       "    <tr>\n",
       "      <th>4</th>\n",
       "      <td>73</td>\n",
       "      <td>1</td>\n",
       "      <td>General Merchandise</td>\n",
       "      <td>1</td>\n",
       "      <td>0</td>\n",
       "      <td>1</td>\n",
       "      <td>1</td>\n",
       "      <td>14134</td>\n",
       "    </tr>\n",
       "  </tbody>\n",
       "</table>\n",
       "</div>"
      ],
      "text/plain": [
       "   index  per_idx              cat_idx  dt_idx  et_idx  geo_idx  is_adj    val\n",
       "0     31        1              Grocery       1       0        1       1  30437\n",
       "1     33        1              Grocery       1       0        1       1  27835\n",
       "2     39        1             Pharmacy       1       0        1       1   6461\n",
       "3     69        1  General Merchandise       1       0        1       1  19879\n",
       "4     73        1  General Merchandise       1       0        1       1  14134"
      ]
     },
     "execution_count": 18,
     "metadata": {},
     "output_type": "execute_result"
    }
   ],
   "source": [
    "data_df_reduced.head()"
   ]
  },
  {
   "cell_type": "markdown",
   "id": "014c18e1",
   "metadata": {},
   "source": [
    "## Populate the Dates from the Lookup Table"
   ]
  },
  {
   "cell_type": "code",
   "execution_count": 19,
   "id": "5c9e0ba9",
   "metadata": {},
   "outputs": [
    {
     "data": {
      "text/html": [
       "<div>\n",
       "<style scoped>\n",
       "    .dataframe tbody tr th:only-of-type {\n",
       "        vertical-align: middle;\n",
       "    }\n",
       "\n",
       "    .dataframe tbody tr th {\n",
       "        vertical-align: top;\n",
       "    }\n",
       "\n",
       "    .dataframe thead th {\n",
       "        text-align: right;\n",
       "    }\n",
       "</style>\n",
       "<table border=\"1\" class=\"dataframe\">\n",
       "  <thead>\n",
       "    <tr style=\"text-align: right;\">\n",
       "      <th></th>\n",
       "      <th>per_idx</th>\n",
       "      <th>per_name</th>\n",
       "    </tr>\n",
       "  </thead>\n",
       "  <tbody>\n",
       "    <tr>\n",
       "      <th>0</th>\n",
       "      <td>1</td>\n",
       "      <td>Jan-92</td>\n",
       "    </tr>\n",
       "    <tr>\n",
       "      <th>1</th>\n",
       "      <td>2</td>\n",
       "      <td>Feb-92</td>\n",
       "    </tr>\n",
       "    <tr>\n",
       "      <th>2</th>\n",
       "      <td>3</td>\n",
       "      <td>Mar-92</td>\n",
       "    </tr>\n",
       "    <tr>\n",
       "      <th>3</th>\n",
       "      <td>4</td>\n",
       "      <td>Apr-92</td>\n",
       "    </tr>\n",
       "    <tr>\n",
       "      <th>4</th>\n",
       "      <td>5</td>\n",
       "      <td>May-92</td>\n",
       "    </tr>\n",
       "  </tbody>\n",
       "</table>\n",
       "</div>"
      ],
      "text/plain": [
       "  per_idx per_name\n",
       "0       1   Jan-92\n",
       "1       2   Feb-92\n",
       "2       3   Mar-92\n",
       "3       4   Apr-92\n",
       "4       5   May-92"
      ]
     },
     "execution_count": 19,
     "metadata": {},
     "output_type": "execute_result"
    }
   ],
   "source": [
    "file_2 = './Resources/time-pds.csv'\n",
    "time_df = pd.read_csv(file_2, encoding=\"ISO-8859-1\", low_memory=False)\n",
    "time_df.head()"
   ]
  },
  {
   "cell_type": "code",
   "execution_count": 20,
   "id": "3675a2a6",
   "metadata": {},
   "outputs": [
    {
     "name": "stdout",
     "output_type": "stream",
     "text": [
      "<class 'pandas.core.frame.DataFrame'>\n",
      "RangeIndex: 360 entries, 0 to 359\n",
      "Data columns (total 2 columns):\n",
      " #   Column    Non-Null Count  Dtype \n",
      "---  ------    --------------  ----- \n",
      " 0   per_idx   360 non-null    object\n",
      " 1   per_name  359 non-null    object\n",
      "dtypes: object(2)\n",
      "memory usage: 5.8+ KB\n"
     ]
    }
   ],
   "source": [
    "time_df.info()"
   ]
  },
  {
   "cell_type": "code",
   "execution_count": 21,
   "id": "c4997c0c",
   "metadata": {},
   "outputs": [],
   "source": [
    "time_df['per_idx'] = data_df_reduced['per_idx'].astype('int64')"
   ]
  },
  {
   "cell_type": "code",
   "execution_count": 23,
   "id": "0711273a",
   "metadata": {},
   "outputs": [
    {
     "data": {
      "text/html": [
       "<div>\n",
       "<style scoped>\n",
       "    .dataframe tbody tr th:only-of-type {\n",
       "        vertical-align: middle;\n",
       "    }\n",
       "\n",
       "    .dataframe tbody tr th {\n",
       "        vertical-align: top;\n",
       "    }\n",
       "\n",
       "    .dataframe thead th {\n",
       "        text-align: right;\n",
       "    }\n",
       "</style>\n",
       "<table border=\"1\" class=\"dataframe\">\n",
       "  <thead>\n",
       "    <tr style=\"text-align: right;\">\n",
       "      <th></th>\n",
       "      <th>per_idx</th>\n",
       "      <th>per_name</th>\n",
       "    </tr>\n",
       "  </thead>\n",
       "  <tbody>\n",
       "    <tr>\n",
       "      <th>0</th>\n",
       "      <td>1</td>\n",
       "      <td>Jan-92</td>\n",
       "    </tr>\n",
       "    <tr>\n",
       "      <th>1</th>\n",
       "      <td>1</td>\n",
       "      <td>Feb-92</td>\n",
       "    </tr>\n",
       "    <tr>\n",
       "      <th>2</th>\n",
       "      <td>1</td>\n",
       "      <td>Mar-92</td>\n",
       "    </tr>\n",
       "    <tr>\n",
       "      <th>3</th>\n",
       "      <td>1</td>\n",
       "      <td>Apr-92</td>\n",
       "    </tr>\n",
       "    <tr>\n",
       "      <th>4</th>\n",
       "      <td>1</td>\n",
       "      <td>May-92</td>\n",
       "    </tr>\n",
       "    <tr>\n",
       "      <th>...</th>\n",
       "      <td>...</td>\n",
       "      <td>...</td>\n",
       "    </tr>\n",
       "    <tr>\n",
       "      <th>355</th>\n",
       "      <td>18</td>\n",
       "      <td>21-Aug</td>\n",
       "    </tr>\n",
       "    <tr>\n",
       "      <th>356</th>\n",
       "      <td>18</td>\n",
       "      <td>21-Sep</td>\n",
       "    </tr>\n",
       "    <tr>\n",
       "      <th>357</th>\n",
       "      <td>18</td>\n",
       "      <td>21-Oct</td>\n",
       "    </tr>\n",
       "    <tr>\n",
       "      <th>358</th>\n",
       "      <td>18</td>\n",
       "      <td>21-Nov</td>\n",
       "    </tr>\n",
       "    <tr>\n",
       "      <th>359</th>\n",
       "      <td>18</td>\n",
       "      <td>NaN</td>\n",
       "    </tr>\n",
       "  </tbody>\n",
       "</table>\n",
       "<p>360 rows × 2 columns</p>\n",
       "</div>"
      ],
      "text/plain": [
       "     per_idx per_name\n",
       "0          1   Jan-92\n",
       "1          1   Feb-92\n",
       "2          1   Mar-92\n",
       "3          1   Apr-92\n",
       "4          1   May-92\n",
       "..       ...      ...\n",
       "355       18   21-Aug\n",
       "356       18   21-Sep\n",
       "357       18   21-Oct\n",
       "358       18   21-Nov\n",
       "359       18      NaN\n",
       "\n",
       "[360 rows x 2 columns]"
      ]
     },
     "execution_count": 23,
     "metadata": {},
     "output_type": "execute_result"
    }
   ],
   "source": [
    "time_df"
   ]
  },
  {
   "cell_type": "code",
   "execution_count": null,
   "id": "3c4b3a40",
   "metadata": {},
   "outputs": [],
   "source": []
  }
 ],
 "metadata": {
  "kernelspec": {
   "display_name": "PythonData",
   "language": "python",
   "name": "pythondata"
  },
  "language_info": {
   "codemirror_mode": {
    "name": "ipython",
    "version": 3
   },
   "file_extension": ".py",
   "mimetype": "text/x-python",
   "name": "python",
   "nbconvert_exporter": "python",
   "pygments_lexer": "ipython3",
   "version": "3.8.8"
  }
 },
 "nbformat": 4,
 "nbformat_minor": 5
}
