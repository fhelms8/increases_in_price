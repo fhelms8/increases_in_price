{
 "cells": [
  {
   "cell_type": "code",
   "execution_count": 1,
   "id": "57e31d84",
   "metadata": {},
   "outputs": [],
   "source": [
    "# Import Dependencies\n",
    "import pandas as pd\n",
    "import numpy as np\n",
    "import warnings\n",
    "warnings.filterwarnings('ignore')"
   ]
  },
  {
   "cell_type": "code",
   "execution_count": 4,
   "id": "ea7a8476",
   "metadata": {},
   "outputs": [],
   "source": [
    "# Name of the CSV file\n",
    "file = './Resources/MRTS-mf_data.csv'"
   ]
  },
  {
   "cell_type": "code",
   "execution_count": 5,
   "id": "dd74c657",
   "metadata": {},
   "outputs": [],
   "source": [
    "data_df = pd.read_csv(file, encoding=\"ISO-8859-1\", low_memory=False)"
   ]
  },
  {
   "cell_type": "code",
   "execution_count": null,
   "id": "7f57611c",
   "metadata": {},
   "outputs": [],
   "source": [
    "data_"
   ]
  }
 ],
 "metadata": {
  "kernelspec": {
   "display_name": "PythonData",
   "language": "python",
   "name": "pythondata"
  },
  "language_info": {
   "codemirror_mode": {
    "name": "ipython",
    "version": 3
   },
   "file_extension": ".py",
   "mimetype": "text/x-python",
   "name": "python",
   "nbconvert_exporter": "python",
   "pygments_lexer": "ipython3",
   "version": "3.8.8"
  }
 },
 "nbformat": 4,
 "nbformat_minor": 5
}
